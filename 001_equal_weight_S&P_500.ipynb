{
 "cells": [
  {
   "cell_type": "markdown",
   "metadata": {},
   "source": [
    "# Equal-Weight S&P 500 Index Fund\n",
    "\n",
    "## Introduction & Library Imports\n",
    "\n",
    "The S&P 500 is the world's most popular stock market index. The largest fund that is benchmarked to this index is the SPDR® S&P 500® ETF Trust, which has more than US$250 billion of assets under management.\n",
    "\n",
    "In this project, I will create a Python script that accepts the value of my portfolio and tells me how many shares of each S&P 500 constituent I should purchase to get an equal-weight version of the index fund.\n",
    "\n",
    "## Library Imports\n",
    "\n",
    "The first step is to import the open-source software libraries that I will be using in this project. Below are the necessary imports:\n",
    "\n",
    "```python\n",
    "import numpy as np\n",
    "import pandas as pd\n",
    "import yfinance as yf\n"
   ]
  },
  {
   "cell_type": "code",
   "execution_count": 1,
   "metadata": {},
   "outputs": [
    {
     "name": "stdout",
     "output_type": "stream",
     "text": [
      "Collecting yfinance\n",
      "  Downloading yfinance-0.2.40-py2.py3-none-any.whl (73 kB)\n",
      "\u001b[K     |████████████████████████████████| 73 kB 1.2 MB/s eta 0:00:01\n",
      "\u001b[?25hRequirement already satisfied: platformdirs>=2.0.0 in /Applications/Mu Editor.app/Contents/Resources/Python/lib/python3.8/site-packages (from yfinance) (2.5.4)\n",
      "Collecting peewee>=3.16.2\n",
      "  Downloading peewee-3.17.6.tar.gz (3.0 MB)\n",
      "\u001b[K     |████████████████████████████████| 3.0 MB 5.4 MB/s eta 0:00:01\n",
      "\u001b[?25h  Installing build dependencies ... \u001b[?25ldone\n",
      "\u001b[?25h  Getting requirements to build wheel ... \u001b[?25ldone\n",
      "\u001b[?25h    Preparing wheel metadata ... \u001b[?25ldone\n",
      "\u001b[?25hCollecting pandas>=1.3.0\n",
      "  Downloading pandas-2.0.3-cp38-cp38-macosx_10_9_x86_64.whl (11.7 MB)\n",
      "\u001b[K     |████████████████████████████████| 11.7 MB 16.6 MB/s eta 0:00:01\n",
      "\u001b[?25hCollecting html5lib>=1.1\n",
      "  Downloading html5lib-1.1-py2.py3-none-any.whl (112 kB)\n",
      "\u001b[K     |████████████████████████████████| 112 kB 15.6 MB/s eta 0:00:01\n",
      "\u001b[?25hRequirement already satisfied: requests>=2.31 in /Applications/Mu Editor.app/Contents/Resources/Python/lib/python3.8/site-packages (from yfinance) (2.32.3)\n",
      "Collecting lxml>=4.9.1\n",
      "  Downloading lxml-5.2.2-cp38-cp38-macosx_10_9_x86_64.whl (4.5 MB)\n",
      "\u001b[K     |████████████████████████████████| 4.5 MB 17.9 MB/s eta 0:00:01\n",
      "\u001b[?25hCollecting frozendict>=2.3.4\n",
      "  Downloading frozendict-2.4.4.tar.gz (315 kB)\n",
      "\u001b[K     |████████████████████████████████| 315 kB 21.4 MB/s eta 0:00:01\n",
      "\u001b[?25h  Installing build dependencies ... \u001b[?25ldone\n",
      "\u001b[?25h  Getting requirements to build wheel ... \u001b[?25ldone\n",
      "\u001b[?25h    Preparing wheel metadata ... \u001b[?25ldone\n",
      "\u001b[?25hCollecting multitasking>=0.0.7\n",
      "  Downloading multitasking-0.0.11-py3-none-any.whl (8.5 kB)\n",
      "Requirement already satisfied: beautifulsoup4>=4.11.1 in /Applications/Mu Editor.app/Contents/Resources/Python/lib/python3.8/site-packages (from yfinance) (4.12.3)\n",
      "Collecting numpy>=1.16.5\n",
      "  Downloading numpy-1.24.4-cp38-cp38-macosx_10_9_x86_64.whl (19.8 MB)\n",
      "\u001b[K     |████████████████████████████████| 19.8 MB 51.9 MB/s eta 0:00:01\n",
      "\u001b[?25hRequirement already satisfied: pytz>=2022.5 in /Applications/Mu Editor.app/Contents/Resources/Python/lib/python3.8/site-packages (from yfinance) (2024.1)\n",
      "Requirement already satisfied: soupsieve>1.2 in /Applications/Mu Editor.app/Contents/Resources/Python/lib/python3.8/site-packages (from beautifulsoup4>=4.11.1->yfinance) (2.5)\n",
      "Requirement already satisfied: six>=1.9 in /Applications/Mu Editor.app/Contents/Resources/Python/lib/python3.8/site-packages (from html5lib>=1.1->yfinance) (1.16.0)\n",
      "Requirement already satisfied: webencodings in /Applications/Mu Editor.app/Contents/Resources/Python/lib/python3.8/site-packages (from html5lib>=1.1->yfinance) (0.5.1)\n",
      "Collecting tzdata>=2022.1\n",
      "  Downloading tzdata-2024.1-py2.py3-none-any.whl (345 kB)\n",
      "\u001b[K     |████████████████████████████████| 345 kB 113.2 MB/s eta 0:00:01\n",
      "\u001b[?25hRequirement already satisfied: python-dateutil>=2.8.2 in /Applications/Mu Editor.app/Contents/Resources/Python/lib/python3.8/site-packages (from pandas>=1.3.0->yfinance) (2.8.2)\n",
      "Requirement already satisfied: certifi>=2017.4.17 in /Applications/Mu Editor.app/Contents/Resources/Python/lib/python3.8/site-packages (from requests>=2.31->yfinance) (2022.9.24)\n",
      "Requirement already satisfied: urllib3<3,>=1.21.1 in /Applications/Mu Editor.app/Contents/Resources/Python/lib/python3.8/site-packages (from requests>=2.31->yfinance) (1.26.12)\n",
      "Requirement already satisfied: idna<4,>=2.5 in /Applications/Mu Editor.app/Contents/Resources/Python/lib/python3.8/site-packages (from requests>=2.31->yfinance) (3.4)\n",
      "Requirement already satisfied: charset-normalizer<4,>=2 in /Applications/Mu Editor.app/Contents/Resources/Python/lib/python3.8/site-packages (from requests>=2.31->yfinance) (2.1.1)\n",
      "Building wheels for collected packages: frozendict, peewee\n",
      "  Building wheel for frozendict (PEP 517) ... \u001b[?25ldone\n",
      "\u001b[?25h  Created wheel for frozendict: filename=frozendict-2.4.4-cp38-cp38-macosx_10_9_x86_64.whl size=16032 sha256=f612cf92edd90fe81b41e7e154d114fdd4d6a779e06b80dfbfce19b371f5afa8\n",
      "  Stored in directory: /Users/vaibhav/Library/Caches/pip/wheels/7d/65/20/a8f7d1a2a99c9db2dfb0f83dddac9e847b02f45040768bf264\n",
      "  Building wheel for peewee (PEP 517) ... \u001b[?25ldone\n",
      "\u001b[?25h  Created wheel for peewee: filename=peewee-3.17.6-py3-none-any.whl size=138889 sha256=8a794acebfcf72aed2676bf2bad0c73e39823f5bf8550a304247f3d7b03e9f42\n",
      "  Stored in directory: /Users/vaibhav/Library/Caches/pip/wheels/3a/cd/3a/abf2568bf80fd95a4be8f7954d9e4eefc190c1233516a0a029\n",
      "Successfully built frozendict peewee\n",
      "Installing collected packages: tzdata, numpy, peewee, pandas, multitasking, lxml, html5lib, frozendict, yfinance\n"
     ]
    }
   ],
   "source": [
    "pip install yfinance"
   ]
  },
  {
   "cell_type": "code",
   "execution_count": 6,
   "metadata": {},
   "outputs": [],
   "source": [
    "import numpy as np \n",
    "import pandas as pd \n",
    "import math \n",
    "import requests\n",
    "import yfinance as yf\n"
   ]
  },
  {
   "cell_type": "markdown",
   "metadata": {},
   "source": [
    "## Importing Our List of Stocks\n",
    "\n",
    "The next thing we need to do is import the constituents of the S&P 500.\n",
    "\n",
    "These constituents change over time, so in an ideal world you would connect directly to the index provider (Standard & Poor's) and pull their real-time constituents on a regular basis.\n",
    "\n",
    "Now it's time to import these stocks to our Jupyter Notebook file."
   ]
  },
  {
   "cell_type": "code",
   "execution_count": 7,
   "metadata": {},
   "outputs": [
    {
     "data": {
      "text/plain": [
       "0       MMM\n",
       "1       AOS\n",
       "2       ABT\n",
       "3      ABBV\n",
       "4       ACN\n",
       "       ... \n",
       "498     XYL\n",
       "499     YUM\n",
       "500    ZBRA\n",
       "501     ZBH\n",
       "502     ZTS\n",
       "Name: Symbol, Length: 503, dtype: object"
      ]
     },
     "execution_count": 7,
     "metadata": {},
     "output_type": "execute_result"
    }
   ],
   "source": [
    "df = pd.read_csv('constituents.csv')\n",
    "Tickers = df['Symbol']\n",
    "Tickers\n"
   ]
  },
  {
   "cell_type": "markdown",
   "metadata": {},
   "source": [
    "## Testing Yfinance call for specific fields \n",
    "\n",
    "The yf call that we executed in the last code block seems to have all teh required data to build an Equal weighted S&P 500 fund. Testing MarketCap and price endpoints \n",
    "\n",
    "With that said, the data isn't in a proper format yet. We need to parse it first."
   ]
  },
  {
   "cell_type": "code",
   "execution_count": 9,
   "metadata": {},
   "outputs": [],
   "source": [
    "tickerData = yf.Ticker('AAPL')"
   ]
  },
  {
   "cell_type": "code",
   "execution_count": 10,
   "metadata": {},
   "outputs": [
    {
     "data": {
      "text/plain": [
       "224.31"
      ]
     },
     "execution_count": 10,
     "metadata": {},
     "output_type": "execute_result"
    }
   ],
   "source": [
    "marketCap = tickerData.info['marketCap']\n",
    "marketCap \n",
    "previousClose = tickerData.info['previousClose']\n",
    "previousClose"
   ]
  },
  {
   "cell_type": "markdown",
   "metadata": {},
   "source": [
    "## Adding Our Stocks Data to a Pandas DataFrame\n",
    "\n",
    "The next thing we need to do is add our stock's price and market capitalization to a pandas DataFrame. Think of a DataFrame like the Python version of a spreadsheet. It stores tabular data."
   ]
  },
  {
   "cell_type": "code",
   "execution_count": 11,
   "metadata": {},
   "outputs": [
    {
     "name": "stdout",
     "output_type": "stream",
     "text": [
      "    ticker       marketC\n",
      "0      MMM   57898164224\n",
      "1      AOS   13039695872\n",
      "2      ABT  179895140352\n",
      "3     ABBV  306343116800\n",
      "4      ACN  207480291328\n",
      "..     ...           ...\n",
      "496    XYL   33770442752\n",
      "497    YUM   35971444736\n",
      "498   ZBRA   16769924096\n",
      "499    ZBH   22749403136\n",
      "500    ZTS   82438815744\n",
      "\n",
      "[501 rows x 2 columns]\n"
     ]
    }
   ],
   "source": [
    "# Assuming df is your initial DataFrame containing a column 'Ticker' with the ticker symbols\n",
    "#df = pd.DataFrame({'Ticker': ['AAPL', 'GOOGL', 'MSFT']})  # Example tickers\n",
    "\n",
    "# Initialize an empty list to collect data\n",
    "market_cap_data = []\n",
    "# Fetch market capitalization for each ticker and append to the list\n",
    "for ticker in Tickers:\n",
    "    try:\n",
    "        market_cap = yf.Ticker(ticker).info['marketCap']\n",
    "        market_cap_data.append({'ticker': ticker, 'marketC': market_cap})\n",
    "    except:\n",
    "        continue\n",
    "    #except Exception as e:\n",
    "      # continue\n",
    "# Convert the list to a DataFrame\n",
    "marketCap_df = pd.DataFrame(market_cap_data)\n",
    "\n",
    "print(marketCap_df)\n",
    "    "
   ]
  },
  {
   "cell_type": "code",
   "execution_count": 12,
   "metadata": {},
   "outputs": [
    {
     "name": "stdout",
     "output_type": "stream",
     "text": [
      "<bound method NDFrame.head of     ticker       marketC\n",
      "0      MMM   57898164224\n",
      "1      AOS   13039695872\n",
      "2      ABT  179895140352\n",
      "3     ABBV  306343116800\n",
      "4      ACN  207480291328\n",
      "..     ...           ...\n",
      "496    XYL   33770442752\n",
      "497    YUM   35971444736\n",
      "498   ZBRA   16769924096\n",
      "499    ZBH   22749403136\n",
      "500    ZTS   82438815744\n",
      "\n",
      "[501 rows x 2 columns]>\n"
     ]
    }
   ],
   "source": [
    "print(marketCap_df.head)"
   ]
  },
  {
   "cell_type": "code",
   "execution_count": 13,
   "metadata": {},
   "outputs": [],
   "source": [
    "Columns_final = ['Ticker','Stock Price','Market Capitalization','Num Shares to Buy']\n",
    "Output_df = pd.DataFrame(columns=Columns_final)"
   ]
  },
  {
   "cell_type": "markdown",
   "metadata": {},
   "source": [
    "## Looping Through The Tickers in Our List of Stocks\n",
    "\n",
    "Using the same logic that we outlined above, we can pull data for all S&P 500 stocks and store their data in the DataFrame using a `for` loop."
   ]
  },
  {
   "cell_type": "code",
   "execution_count": 14,
   "metadata": {},
   "outputs": [],
   "source": [
    "priceData =[]\n",
    "for ticker in Tickers:\n",
    "    try:\n",
    "        market_cap = yf.Ticker(ticker).info['marketCap']\n",
    "        market_cap_data.append(market_cap)\n",
    "        price = yf.Ticker(ticker).info['previousClose']\n",
    "        priceData.append(price)\n",
    "    except:\n",
    "        continue"
   ]
  },
  {
   "cell_type": "code",
   "execution_count": 15,
   "metadata": {},
   "outputs": [
    {
     "data": {
      "text/html": [
       "<div>\n",
       "<style scoped>\n",
       "    .dataframe tbody tr th:only-of-type {\n",
       "        vertical-align: middle;\n",
       "    }\n",
       "\n",
       "    .dataframe tbody tr th {\n",
       "        vertical-align: top;\n",
       "    }\n",
       "\n",
       "    .dataframe thead th {\n",
       "        text-align: right;\n",
       "    }\n",
       "</style>\n",
       "<table border=\"1\" class=\"dataframe\">\n",
       "  <thead>\n",
       "    <tr style=\"text-align: right;\">\n",
       "      <th></th>\n",
       "      <th>Ticker</th>\n",
       "      <th>Stock Price</th>\n",
       "      <th>Market Capitalization</th>\n",
       "      <th>Num Shares to Buy</th>\n",
       "    </tr>\n",
       "  </thead>\n",
       "  <tbody>\n",
       "    <tr>\n",
       "      <th>0</th>\n",
       "      <td>MMM</td>\n",
       "      <td>103.92</td>\n",
       "      <td>{'ticker': 'MMM', 'marketC': 57898164224}</td>\n",
       "      <td>NaN</td>\n",
       "    </tr>\n",
       "    <tr>\n",
       "      <th>1</th>\n",
       "      <td>AOS</td>\n",
       "      <td>87.99</td>\n",
       "      <td>{'ticker': 'AOS', 'marketC': 13039695872}</td>\n",
       "      <td>NaN</td>\n",
       "    </tr>\n",
       "    <tr>\n",
       "      <th>2</th>\n",
       "      <td>ABT</td>\n",
       "      <td>102.03</td>\n",
       "      <td>{'ticker': 'ABT', 'marketC': 179895140352}</td>\n",
       "      <td>NaN</td>\n",
       "    </tr>\n",
       "    <tr>\n",
       "      <th>3</th>\n",
       "      <td>ABBV</td>\n",
       "      <td>172.32</td>\n",
       "      <td>{'ticker': 'ABBV', 'marketC': 306343116800}</td>\n",
       "      <td>NaN</td>\n",
       "    </tr>\n",
       "    <tr>\n",
       "      <th>4</th>\n",
       "      <td>ACN</td>\n",
       "      <td>329.19</td>\n",
       "      <td>{'ticker': 'ACN', 'marketC': 207480291328}</td>\n",
       "      <td>NaN</td>\n",
       "    </tr>\n",
       "    <tr>\n",
       "      <th>...</th>\n",
       "      <td>...</td>\n",
       "      <td>...</td>\n",
       "      <td>...</td>\n",
       "      <td>...</td>\n",
       "    </tr>\n",
       "    <tr>\n",
       "      <th>496</th>\n",
       "      <td>WYNN</td>\n",
       "      <td>137.49</td>\n",
       "      <td>{'ticker': 'XYL', 'marketC': 33770442752}</td>\n",
       "      <td>NaN</td>\n",
       "    </tr>\n",
       "    <tr>\n",
       "      <th>497</th>\n",
       "      <td>XEL</td>\n",
       "      <td>126.93</td>\n",
       "      <td>{'ticker': 'YUM', 'marketC': 35971444736}</td>\n",
       "      <td>NaN</td>\n",
       "    </tr>\n",
       "    <tr>\n",
       "      <th>498</th>\n",
       "      <td>XYL</td>\n",
       "      <td>321.45</td>\n",
       "      <td>{'ticker': 'ZBRA', 'marketC': 16769924096}</td>\n",
       "      <td>NaN</td>\n",
       "    </tr>\n",
       "    <tr>\n",
       "      <th>499</th>\n",
       "      <td>YUM</td>\n",
       "      <td>110.50</td>\n",
       "      <td>{'ticker': 'ZBH', 'marketC': 22749403136}</td>\n",
       "      <td>NaN</td>\n",
       "    </tr>\n",
       "    <tr>\n",
       "      <th>500</th>\n",
       "      <td>ZBRA</td>\n",
       "      <td>178.58</td>\n",
       "      <td>{'ticker': 'ZTS', 'marketC': 82438815744}</td>\n",
       "      <td>NaN</td>\n",
       "    </tr>\n",
       "  </tbody>\n",
       "</table>\n",
       "<p>501 rows × 4 columns</p>\n",
       "</div>"
      ],
      "text/plain": [
       "    Ticker  Stock Price                        Market Capitalization  \\\n",
       "0      MMM       103.92    {'ticker': 'MMM', 'marketC': 57898164224}   \n",
       "1      AOS        87.99    {'ticker': 'AOS', 'marketC': 13039695872}   \n",
       "2      ABT       102.03   {'ticker': 'ABT', 'marketC': 179895140352}   \n",
       "3     ABBV       172.32  {'ticker': 'ABBV', 'marketC': 306343116800}   \n",
       "4      ACN       329.19   {'ticker': 'ACN', 'marketC': 207480291328}   \n",
       "..     ...          ...                                          ...   \n",
       "496   WYNN       137.49    {'ticker': 'XYL', 'marketC': 33770442752}   \n",
       "497    XEL       126.93    {'ticker': 'YUM', 'marketC': 35971444736}   \n",
       "498    XYL       321.45   {'ticker': 'ZBRA', 'marketC': 16769924096}   \n",
       "499    YUM       110.50    {'ticker': 'ZBH', 'marketC': 22749403136}   \n",
       "500   ZBRA       178.58    {'ticker': 'ZTS', 'marketC': 82438815744}   \n",
       "\n",
       "    Num Shares to Buy  \n",
       "0                 NaN  \n",
       "1                 NaN  \n",
       "2                 NaN  \n",
       "3                 NaN  \n",
       "4                 NaN  \n",
       "..                ...  \n",
       "496               NaN  \n",
       "497               NaN  \n",
       "498               NaN  \n",
       "499               NaN  \n",
       "500               NaN  \n",
       "\n",
       "[501 rows x 4 columns]"
      ]
     },
     "execution_count": 15,
     "metadata": {},
     "output_type": "execute_result"
    }
   ],
   "source": [
    "Output_df['Stock Price'] = priceData\n",
    "Output_df['Market Capitalization']=market_cap_data[0:501]\n",
    "Output_df['Ticker'] = Tickers\n",
    "Output_df"
   ]
  },
  {
   "cell_type": "markdown",
   "metadata": {},
   "source": [
    "## Using Batch API Calls to Improve Performance\n",
    "\n",
    "Batch API calls are one of the easiest ways to improve the performance of your code.\n",
    "\n",
    "This is because HTTP requests are typically one of the slowest components of a script.\n",
    "\n",
    "Also, API providers will often give you discounted rates for using batch API calls since they are easier for the API provider to respond to.\n",
    "\n",
    "IEX Cloud limits their batch API calls to 100 tickers per request. Still, this reduces the number of API calls we'll make in this section from 500 to 5 - huge improvement! In this section, we'll split our list of stocks into groups of 100 and then make a batch API call for each group."
   ]
  },
  {
   "cell_type": "code",
   "execution_count": 16,
   "metadata": {},
   "outputs": [],
   "source": [
    "def chunks(lst, n):\n",
    "    \"\"\"Yield successive n-sized chunks from lst.\"\"\"\n",
    "    for i in range(0, len(lst), n):\n",
    "        yield lst[i:i + n]\n"
   ]
  },
  {
   "cell_type": "code",
   "execution_count": 36,
   "metadata": {},
   "outputs": [
    {
     "name": "stderr",
     "output_type": "stream",
     "text": [
      "[*********************100%%**********************]  100 of 100 completed\n",
      "\n",
      "2 Failed downloads:\n",
      "['BF.B']: YFInvalidPeriodError(\"%ticker%: Period '1d' is invalid, must be one of ['1mo', '3mo', '6mo', 'ytd', '1y', '2y', '5y', '10y', 'max']\")\n",
      "['BRK.B']: YFChartError('%ticker%: No data found, symbol may be delisted')\n",
      "/var/folders/q9/8hz1nyl113q8w927cy4s5dkh0000gn/T/ipykernel_22741/3828155315.py:26: FutureWarning: The behavior of DataFrame concatenation with empty or all-NA entries is deprecated. In a future version, this will no longer exclude empty or all-NA columns when determining the result dtypes. To retain the old behavior, exclude the relevant entries before the concat operation.\n",
      "  final_dataframe = pd.concat([final_dataframe, new_row], ignore_index=True)\n",
      "[*********************100%%**********************]  100 of 100 completed\n",
      "[*********************100%%**********************]  100 of 100 completed\n",
      "[*********************100%%**********************]  100 of 100 completed\n",
      "[*********************100%%**********************]  100 of 100 completed\n",
      "[*********************100%%**********************]  1 of 1 completed"
     ]
    },
    {
     "name": "stdout",
     "output_type": "stream",
     "text": [
      "Error fetching data for ZBRA: 'Index' object has no attribute 'levels'\n",
      "    Ticker  Stock Price Market Capitalization Num Shares to Buy\n",
      "0      MMM   104.794998           57983938560               N/A\n",
      "1      AOS    88.820000           13022096384               N/A\n",
      "2      ABT   103.680000          180382236672               N/A\n",
      "3     ABBV   173.436005          306265423872               N/A\n",
      "4      ACN   331.450012          207614984192               N/A\n",
      "..     ...          ...                   ...               ...\n",
      "495    WTW   265.410004           27134457856               N/A\n",
      "496   WYNN    83.559998            9362971648               N/A\n",
      "497    XEL    55.730000           30971318272               N/A\n",
      "498    XYL   139.233002           33763168256               N/A\n",
      "499    YUM   128.425003           36192526336               N/A\n",
      "\n",
      "[500 rows x 4 columns]\n"
     ]
    },
    {
     "name": "stderr",
     "output_type": "stream",
     "text": [
      "\n"
     ]
    }
   ],
   "source": [
    "# Splitting tickers into chunks of 100\n",
    "symbol_groups = list(chunks(Output_df['Ticker'], 100))\n",
    "symbol_strings = [','.join(group) for group in symbol_groups]\n",
    "\n",
    "# Initializing the final dataframe\n",
    "final_dataframe = pd.DataFrame(columns=Columns_final)\n",
    "\n",
    "# Iterating through each group of symbols and fetching data in batches\n",
    "for symbol_string in symbol_strings:\n",
    "    # Fetch data for all tickers in the current batch\n",
    "    data = yf.download(tickers=symbol_string, period=\"1d\", group_by='ticker', auto_adjust=False)\n",
    "\n",
    "    for symbol in symbol_string.split(','):\n",
    "        try:\n",
    "            if isinstance(data, pd.DataFrame) and symbol in data.columns.levels[0]:\n",
    "                previous_close = data[symbol]['Close'].iloc[-1]\n",
    "            elif isinstance(data, pd.DataFrame):\n",
    "                previous_close = data['Close'].iloc[-1]\n",
    "            else:\n",
    "                previous_close = data['Close'].iloc[-1] if 'Close' in data else 'N/A'\n",
    "                \n",
    "            ticker_data = yf.Ticker(symbol)\n",
    "            market_cap = ticker_data.info.get('marketCap', 'N/A')\n",
    "            \n",
    "            new_row = pd.DataFrame([[symbol, previous_close, market_cap, 'N/A']], columns=Columns_final)\n",
    "            final_dataframe = pd.concat([final_dataframe, new_row], ignore_index=True)\n",
    "        except Exception as e:\n",
    "            print(f\"Error fetching data for {symbol}: {e}\")\n",
    "\n",
    "print(final_dataframe)"
   ]
  },
  {
   "cell_type": "markdown",
   "metadata": {},
   "source": [
    "## Calculating the Number of Shares to Buy\n",
    "\n",
    "As you can see in the DataFrame above, we stil haven't calculated the number of shares of each stock to buy.\n",
    "\n",
    "We'll do that next."
   ]
  },
  {
   "cell_type": "code",
   "execution_count": null,
   "metadata": {},
   "outputs": [],
   "source": [
    "pip install --upgrade jupyter"
   ]
  },
  {
   "cell_type": "code",
   "execution_count": 1,
   "metadata": {},
   "outputs": [],
   "source": [
    "user_input = input(\"Please enter something: \")\n",
    "print(f\"You entered: {user_input}\")"
   ]
  },
  {
   "cell_type": "code",
   "execution_count": null,
   "metadata": {},
   "outputs": [],
   "source": [
    "position_size = val/500\n",
    "num_shares = []\n",
    "for price in final_dataframe['Stock Price']:\n",
    "    num_shares.append(position_size/price)\n",
    "num_shares=pd.Series()\n"
   ]
  },
  {
   "cell_type": "markdown",
   "metadata": {},
   "source": [
    "## Formatting Our Excel Output\n",
    "\n",
    "We will be using the XlsxWriter library for Python to create nicely-formatted Excel files.\n",
    "\n",
    "XlsxWriter is an excellent package and offers tons of customization. However, the tradeoff for this is that the library can seem very complicated to new users. Accordingly, this section will be fairly long because I want to do a good job of explaining how XlsxWriter works.\n",
    "\n",
    "### Initializing our XlsxWriter Object"
   ]
  },
  {
   "cell_type": "code",
   "execution_count": null,
   "metadata": {},
   "outputs": [],
   "source": []
  },
  {
   "cell_type": "markdown",
   "metadata": {},
   "source": [
    "### Creating the Formats We'll Need For Our `.xlsx` File\n",
    "\n",
    "Formats include colors, fonts, and also symbols like `%` and `$`. We'll need four main formats for our Excel document:\n",
    "* String format for tickers\n",
    "* \\\\$XX.XX format for stock prices\n",
    "* \\\\$XX,XXX format for market capitalization\n",
    "* Integer format for the number of shares to purchase"
   ]
  },
  {
   "cell_type": "code",
   "execution_count": null,
   "metadata": {},
   "outputs": [],
   "source": []
  },
  {
   "cell_type": "markdown",
   "metadata": {},
   "source": [
    "### Applying the Formats to the Columns of Our `.xlsx` File\n",
    "\n",
    "We can use the `set_column` method applied to the `writer.sheets['Recommended Trades']` object to apply formats to specific columns of our spreadsheets.\n",
    "\n",
    "Here's an example:\n",
    "\n",
    "```python\n",
    "writer.sheets['Recommended Trades'].set_column('B:B', #This tells the method to apply the format to column B\n",
    "                     18, #This tells the method to apply a column width of 18 pixels\n",
    "                     string_template #This applies the format 'string_template' to the column\n",
    "                    )\n",
    "```"
   ]
  },
  {
   "cell_type": "code",
   "execution_count": null,
   "metadata": {},
   "outputs": [],
   "source": []
  },
  {
   "cell_type": "markdown",
   "metadata": {},
   "source": [
    "This code works, but it violates the software principle of \"Don't Repeat Yourself\". \n",
    "\n",
    "Let's simplify this by putting it in 2 loops:"
   ]
  },
  {
   "cell_type": "code",
   "execution_count": null,
   "metadata": {},
   "outputs": [],
   "source": []
  },
  {
   "cell_type": "markdown",
   "metadata": {},
   "source": [
    "## Saving Our Excel Output\n",
    "\n",
    "Saving our Excel file is very easy:"
   ]
  },
  {
   "cell_type": "code",
   "execution_count": null,
   "metadata": {},
   "outputs": [],
   "source": []
  }
 ],
 "metadata": {
  "kernelspec": {
   "display_name": "Python 3.12.4",
   "language": "python",
   "name": "python3"
  },
  "language_info": {
   "codemirror_mode": {
    "name": "ipython",
    "version": 3
   },
   "file_extension": ".py",
   "mimetype": "text/x-python",
   "name": "python",
   "nbconvert_exporter": "python",
   "pygments_lexer": "ipython3",
   "version": "3.12.4"
  },
  "vscode": {
   "interpreter": {
    "hash": "40d3a090f54c6569ab1632332b64b2c03c39dcf918b08424e98f38b5ae0af88f"
   }
  }
 },
 "nbformat": 4,
 "nbformat_minor": 4
}
