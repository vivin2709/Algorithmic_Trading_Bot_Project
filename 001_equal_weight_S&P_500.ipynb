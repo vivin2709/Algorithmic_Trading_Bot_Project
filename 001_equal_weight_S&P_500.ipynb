{
 "cells": [
  {
   "cell_type": "markdown",
   "metadata": {},
   "source": [
    "# Equal-Weight S&P 500 Index Fund\n",
    "\n",
    "## Introduction & Library Imports\n",
    "\n",
    "The S&P 500 is the world's most popular stock market index. The largest fund that is benchmarked to this index is the SPDR® S&P 500® ETF Trust, which has more than US$250 billion of assets under management.\n",
    "\n",
    "In this project, I will create a Python script that accepts the value of my portfolio and tells me how many shares of each S&P 500 constituent I should purchase to get an equal-weight version of the index fund.\n",
    "\n",
    "## Library Imports\n",
    "\n",
    "The first step is to import the open-source software libraries that I will be using in this project. Below are the necessary imports:\n",
    "\n",
    "```python\n",
    "import numpy as np\n",
    "import pandas as pd\n",
    "import yfinance as yf\n"
   ]
  },
  {
   "cell_type": "code",
   "execution_count": 2,
   "metadata": {},
   "outputs": [
    {
     "name": "stdout",
     "output_type": "stream",
     "text": [
      "Requirement already satisfied: yfinance in /opt/anaconda3/lib/python3.12/site-packages (0.2.40)\n",
      "Requirement already satisfied: pandas>=1.3.0 in /opt/anaconda3/lib/python3.12/site-packages (from yfinance) (2.2.2)\n",
      "Requirement already satisfied: numpy>=1.16.5 in /opt/anaconda3/lib/python3.12/site-packages (from yfinance) (1.26.4)\n",
      "Requirement already satisfied: requests>=2.31 in /opt/anaconda3/lib/python3.12/site-packages (from yfinance) (2.32.2)\n",
      "Requirement already satisfied: multitasking>=0.0.7 in /opt/anaconda3/lib/python3.12/site-packages (from yfinance) (0.0.11)\n",
      "Requirement already satisfied: lxml>=4.9.1 in /opt/anaconda3/lib/python3.12/site-packages (from yfinance) (5.2.1)\n",
      "Requirement already satisfied: platformdirs>=2.0.0 in /opt/anaconda3/lib/python3.12/site-packages (from yfinance) (3.10.0)\n",
      "Requirement already satisfied: pytz>=2022.5 in /opt/anaconda3/lib/python3.12/site-packages (from yfinance) (2024.1)\n",
      "Requirement already satisfied: frozendict>=2.3.4 in /opt/anaconda3/lib/python3.12/site-packages (from yfinance) (2.4.2)\n",
      "Requirement already satisfied: peewee>=3.16.2 in /opt/anaconda3/lib/python3.12/site-packages (from yfinance) (3.17.6)\n",
      "Requirement already satisfied: beautifulsoup4>=4.11.1 in /opt/anaconda3/lib/python3.12/site-packages (from yfinance) (4.12.3)\n",
      "Requirement already satisfied: html5lib>=1.1 in /opt/anaconda3/lib/python3.12/site-packages (from yfinance) (1.1)\n",
      "Requirement already satisfied: soupsieve>1.2 in /opt/anaconda3/lib/python3.12/site-packages (from beautifulsoup4>=4.11.1->yfinance) (2.5)\n",
      "Requirement already satisfied: six>=1.9 in /opt/anaconda3/lib/python3.12/site-packages (from html5lib>=1.1->yfinance) (1.16.0)\n",
      "Requirement already satisfied: webencodings in /opt/anaconda3/lib/python3.12/site-packages (from html5lib>=1.1->yfinance) (0.5.1)\n",
      "Requirement already satisfied: python-dateutil>=2.8.2 in /opt/anaconda3/lib/python3.12/site-packages (from pandas>=1.3.0->yfinance) (2.9.0.post0)\n",
      "Requirement already satisfied: tzdata>=2022.7 in /opt/anaconda3/lib/python3.12/site-packages (from pandas>=1.3.0->yfinance) (2023.3)\n",
      "Requirement already satisfied: charset-normalizer<4,>=2 in /opt/anaconda3/lib/python3.12/site-packages (from requests>=2.31->yfinance) (2.0.4)\n",
      "Requirement already satisfied: idna<4,>=2.5 in /opt/anaconda3/lib/python3.12/site-packages (from requests>=2.31->yfinance) (3.7)\n",
      "Requirement already satisfied: urllib3<3,>=1.21.1 in /opt/anaconda3/lib/python3.12/site-packages (from requests>=2.31->yfinance) (2.2.2)\n",
      "Requirement already satisfied: certifi>=2017.4.17 in /opt/anaconda3/lib/python3.12/site-packages (from requests>=2.31->yfinance) (2024.6.2)\n",
      "Note: you may need to restart the kernel to use updated packages.\n"
     ]
    }
   ],
   "source": [
    "pip install yfinance"
   ]
  },
  {
   "cell_type": "code",
   "execution_count": 4,
   "metadata": {},
   "outputs": [],
   "source": [
    "import numpy as np \n",
    "import pandas as pd \n",
    "import math \n",
    "import requests\n",
    "import yfinance as yf"
   ]
  },
  {
   "cell_type": "markdown",
   "metadata": {},
   "source": [
    "## Importing Our List of Stocks\n",
    "\n",
    "The next thing we need to do is import the constituents of the S&P 500.\n",
    "\n",
    "These constituents change over time, so in an ideal world you would connect directly to the index provider (Standard & Poor's) and pull their real-time constituents on a regular basis.\n",
    "\n",
    "Now it's time to import these stocks to our Jupyter Notebook file."
   ]
  },
  {
   "cell_type": "code",
   "execution_count": 5,
   "metadata": {},
   "outputs": [
    {
     "data": {
      "text/plain": [
       "0       MMM\n",
       "1       AOS\n",
       "2       ABT\n",
       "3      ABBV\n",
       "4       ACN\n",
       "       ... \n",
       "498     XYL\n",
       "499     YUM\n",
       "500    ZBRA\n",
       "501     ZBH\n",
       "502     ZTS\n",
       "Name: Symbol, Length: 503, dtype: object"
      ]
     },
     "execution_count": 5,
     "metadata": {},
     "output_type": "execute_result"
    }
   ],
   "source": [
    "df = pd.read_csv('constituents.csv')\n",
    "Tickers = df['Symbol']\n",
    "Tickers"
   ]
  },
  {
   "cell_type": "markdown",
   "metadata": {},
   "source": [
    "## Testing Yfinance call for specific fields \n",
    "\n",
    "The yf call that we executed in the last code block seems to have all teh required data to build an Equal weighted S&P 500 fund. Testing MarketCap and price endpoints \n",
    "\n",
    "With that said, the data isn't in a proper format yet. We need to parse it first."
   ]
  },
  {
   "cell_type": "code",
   "execution_count": 6,
   "metadata": {},
   "outputs": [],
   "source": [
    "tickerData = yf.Ticker('AAPL')"
   ]
  },
  {
   "cell_type": "code",
   "execution_count": 7,
   "metadata": {},
   "outputs": [
    {
     "data": {
      "text/plain": [
       "224.31"
      ]
     },
     "execution_count": 7,
     "metadata": {},
     "output_type": "execute_result"
    }
   ],
   "source": [
    "marketCap = tickerData.info['marketCap']\n",
    "marketCap \n",
    "previousClose = tickerData.info['previousClose']\n",
    "previousClose"
   ]
  },
  {
   "cell_type": "markdown",
   "metadata": {},
   "source": [
    "## Adding Our Stocks Data to a Pandas DataFrame\n",
    "\n",
    "The next thing we need to do is add our stock's price and market capitalization to a pandas DataFrame. Think of a DataFrame like the Python version of a spreadsheet. It stores tabular data."
   ]
  },
  {
   "cell_type": "code",
   "execution_count": 8,
   "metadata": {},
   "outputs": [
    {
     "name": "stdout",
     "output_type": "stream",
     "text": [
      "    ticker       marketC\n",
      "0      MMM   58086305792\n",
      "1      AOS   13025762304\n",
      "2      ABT  180434419712\n",
      "3     ABBV  306572689408\n",
      "4      ACN  207652569088\n",
      "..     ...           ...\n",
      "496    XYL   33782564864\n",
      "497    YUM   36220690432\n",
      "498   ZBRA   16792034304\n",
      "499    ZBH   22697969664\n",
      "500    ZTS   82479882240\n",
      "\n",
      "[501 rows x 2 columns]\n"
     ]
    }
   ],
   "source": [
    "# Assuming df is your initial DataFrame containing a column 'Ticker' with the ticker symbols\n",
    "#df = pd.DataFrame({'Ticker': ['AAPL', 'GOOGL', 'MSFT']})  # Example tickers\n",
    "\n",
    "# Initialize an empty list to collect data\n",
    "market_cap_data = []\n",
    "\n",
    "# Fetch market capitalization for each ticker and append to the list\n",
    "for ticker in Tickers:\n",
    "    try:\n",
    "        market_cap = yf.Ticker(ticker).info['marketCap']\n",
    "        market_cap_data.append({'ticker': ticker, 'marketC': market_cap})\n",
    "    except:\n",
    "        continue\n",
    "\n",
    "# Convert the list to a DataFrame\n",
    "marketCap_df = pd.DataFrame(market_cap_data)\n",
    "print(marketCap_df)"
   ]
  },
  {
   "cell_type": "code",
   "execution_count": 9,
   "metadata": {},
   "outputs": [
    {
     "name": "stdout",
     "output_type": "stream",
     "text": [
      "<bound method NDFrame.head of     ticker       marketC\n",
      "0      MMM   58086305792\n",
      "1      AOS   13025762304\n",
      "2      ABT  180434419712\n",
      "3     ABBV  306572689408\n",
      "4      ACN  207652569088\n",
      "..     ...           ...\n",
      "496    XYL   33782564864\n",
      "497    YUM   36220690432\n",
      "498   ZBRA   16792034304\n",
      "499    ZBH   22697969664\n",
      "500    ZTS   82479882240\n",
      "\n",
      "[501 rows x 2 columns]>\n"
     ]
    }
   ],
   "source": [
    "print(marketCap_df.head)"
   ]
  },
  {
   "cell_type": "code",
   "execution_count": 10,
   "metadata": {},
   "outputs": [],
   "source": [
    "Columns_final = ['Ticker','Stock Price','Market Capitalization','Num Shares to Buy']\n",
    "Output_df = pd.DataFrame(columns=Columns_final)"
   ]
  },
  {
   "cell_type": "markdown",
   "metadata": {},
   "source": [
    "## Looping Through The Tickers in Our List of Stocks\n",
    "\n",
    "Using the same logic that we outlined above, we can pull data for all S&P 500 stocks and store their data in the DataFrame using a `for` loop."
   ]
  },
  {
   "cell_type": "code",
   "execution_count": 11,
   "metadata": {},
   "outputs": [],
   "source": [
    "priceData =[]\n",
    "for ticker in Tickers:\n",
    "    try:\n",
    "        market_cap = yf.Ticker(ticker).info['marketCap']\n",
    "        market_cap_data.append(market_cap)\n",
    "        price = yf.Ticker(ticker).info['previousClose']\n",
    "        priceData.append(price)\n",
    "    except:\n",
    "        continue"
   ]
  },
  {
   "cell_type": "code",
   "execution_count": 12,
   "metadata": {},
   "outputs": [],
   "source": [
    "Output_df['Stock Price'] = priceData\n",
    "Output_df['Market Capitalization'] = market_cap_data[0:501]\n",
    "Output_df['Ticker'] = Tickers"
   ]
  },
  {
   "cell_type": "markdown",
   "metadata": {},
   "source": [
    "## Using Batch API Calls to Improve Performance\n",
    "\n",
    "Batch API calls are one of the easiest ways to improve the performance of your code.\n",
    "\n",
    "This is because HTTP requests are typically one of the slowest components of a script.\n",
    "\n",
    "Also, API providers will often give you discounted rates for using batch API calls since they are easier for the API provider to respond to.\n",
    "\n",
    "IEX Cloud limits their batch API calls to 100 tickers per request. Still, this reduces the number of API calls we'll make in this section from 500 to 5 - huge improvement! In this section, we'll split our list of stocks into groups of 100 and then make a batch API call for each group."
   ]
  },
  {
   "cell_type": "code",
   "execution_count": 32,
   "metadata": {},
   "outputs": [],
   "source": [
    "def chunks(lst, n):\n",
    "    \"\"\"Yield successive n-sized chunks from lst.\"\"\"\n",
    "    for i in range(0, len(lst), n):\n",
    "        yield lst[i:i + n]"
   ]
  },
  {
   "cell_type": "code",
   "execution_count": 33,
   "metadata": {},
   "outputs": [
    {
     "name": "stdout",
     "output_type": "stream",
     "text": [
      "0       MMM\n",
      "1       AOS\n",
      "2       ABT\n",
      "3      ABBV\n",
      "4       ACN\n",
      "       ... \n",
      "496    WYNN\n",
      "497     XEL\n",
      "498     XYL\n",
      "499     YUM\n",
      "500    ZBRA\n",
      "Name: Ticker, Length: 501, dtype: object\n",
      "[0      MMM\n",
      "1      AOS\n",
      "2      ABT\n",
      "3     ABBV\n",
      "4      ACN\n",
      "      ... \n",
      "95      CE\n",
      "96     COR\n",
      "97     CNC\n",
      "98     CNP\n",
      "99      CF\n",
      "Name: Ticker, Length: 100, dtype: object, 100    CHRW\n",
      "101     CRL\n",
      "102    SCHW\n",
      "103    CHTR\n",
      "104     CVX\n",
      "       ... \n",
      "195     FIS\n",
      "196    FITB\n",
      "197    FSLR\n",
      "198      FE\n",
      "199      FI\n",
      "Name: Ticker, Length: 100, dtype: object, 200     FMC\n",
      "201       F\n",
      "202    FTNT\n",
      "203     FTV\n",
      "204    FOXA\n",
      "       ... \n",
      "295       L\n",
      "296     LOW\n",
      "297    LULU\n",
      "298     LYB\n",
      "299     MTB\n",
      "Name: Ticker, Length: 100, dtype: object, 300     MRO\n",
      "301     MPC\n",
      "302    MKTX\n",
      "303     MAR\n",
      "304     MMC\n",
      "       ... \n",
      "395     RTX\n",
      "396       O\n",
      "397     REG\n",
      "398    REGN\n",
      "399      RF\n",
      "Name: Ticker, Length: 100, dtype: object, 400     RSG\n",
      "401     RMD\n",
      "402    RVTY\n",
      "403     ROK\n",
      "404     ROL\n",
      "       ... \n",
      "495     WTW\n",
      "496    WYNN\n",
      "497     XEL\n",
      "498     XYL\n",
      "499     YUM\n",
      "Name: Ticker, Length: 100, dtype: object, 500    ZBRA\n",
      "Name: Ticker, dtype: object]\n"
     ]
    },
    {
     "name": "stderr",
     "output_type": "stream",
     "text": [
      "[*********************100%%**********************]  100 of 100 completed\n",
      "\n",
      "2 Failed downloads:\n",
      "['BF.B']: YFInvalidPeriodError(\"%ticker%: Period '1d' is invalid, must be one of ['1mo', '3mo', '6mo', 'ytd', '1y', '2y', '5y', '10y', 'max']\")\n",
      "['BRK.B']: YFChartError('%ticker%: No data found, symbol may be delisted')\n",
      "/var/folders/g4/d2_9vd6n0cx4k51m5kmh8f2m0000gn/T/ipykernel_10330/783701940.py:28: FutureWarning: The behavior of DataFrame concatenation with empty or all-NA entries is deprecated. In a future version, this will no longer exclude empty or all-NA columns when determining the result dtypes. To retain the old behavior, exclude the relevant entries before the concat operation.\n",
      "  final_dataframe = pd.concat([final_dataframe, new_row], ignore_index=True)\n",
      "[*********************100%%**********************]  100 of 100 completed\n",
      "[*********************100%%**********************]  100 of 100 completed\n",
      "[*********************100%%**********************]  100 of 100 completed\n",
      "[*********************100%%**********************]  100 of 100 completed\n",
      "[*********************100%%**********************]  1 of 1 completed"
     ]
    },
    {
     "name": "stdout",
     "output_type": "stream",
     "text": [
      "Error fetching data for ZBRA: 'Index' object has no attribute 'levels'\n",
      "    Ticker  Stock Price Market Capitalization Num Shares to Buy\n",
      "0      MMM   104.970001           58086305792               N/A\n",
      "1      AOS    88.809998           13025762304               N/A\n",
      "2      ABT   103.720001          180434419712               N/A\n",
      "3     ABBV   173.610001          306572689408               N/A\n",
      "4      ACN   331.510010          207652569088               N/A\n",
      "..     ...          ...                   ...               ...\n",
      "495    WTW   265.440002           27137523712               N/A\n",
      "496   WYNN    83.540001            9362411520               N/A\n",
      "497    XEL    55.740002           30971318272               N/A\n",
      "498    XYL   139.339996           33782564864               N/A\n",
      "499    YUM   128.610001           36220690432               N/A\n",
      "\n",
      "[500 rows x 4 columns]\n"
     ]
    },
    {
     "name": "stderr",
     "output_type": "stream",
     "text": [
      "\n"
     ]
    }
   ],
   "source": [
    "# Splitting tickers into chunks of 100\n",
    "symbol_groups = list(chunks(Output_df['Ticker'], 100))\n",
    "symbol_strings = [','.join(group) for group in symbol_groups]\n",
    "\n",
    "# Initializing the final dataframe\n",
    "final_dataframe = pd.DataFrame(columns=Columns_final)\n",
    "\n",
    "# Iterating through each group of symbols and fetching data in batches\n",
    "for symbol_string in symbol_strings:\n",
    "    # Fetch data for all tickers in the current batch\n",
    "    data = yf.download(tickers=symbol_string, period=\"1d\", group_by='ticker', auto_adjust=False)\n",
    "\n",
    "    for symbol in symbol_string.split(','):\n",
    "        try:\n",
    "            if isinstance(data, pd.DataFrame) and symbol in data.columns.levels[0]:\n",
    "                previous_close = data[symbol]['Close'].iloc[-1]\n",
    "            elif isinstance(data, pd.DataFrame):\n",
    "                previous_close = data['Close'].iloc[-1]\n",
    "            else:\n",
    "                previous_close = data['Close'].iloc[-1] if 'Close' in data else 'N/A'\n",
    "                \n",
    "            ticker_data = yf.Ticker(symbol)\n",
    "            market_cap = ticker_data.info.get('marketCap', 'N/A')\n",
    "            \n",
    "            new_row = pd.DataFrame([[symbol, previous_close, market_cap, 'N/A']], columns=Columns_final)\n",
    "            final_dataframe = pd.concat([final_dataframe, new_row], ignore_index=True)\n",
    "        except Exception as e:\n",
    "            print(f\"Error fetching data for {symbol}: {e}\")\n",
    "print(final_dataframe)"
   ]
  },
  {
   "cell_type": "markdown",
   "metadata": {},
   "source": [
    "## Calculating the Number of Shares to Buy\n",
    "\n",
    "As you can see in the DataFrame above, we stil haven't calculated the number of shares of each stock to buy.\n",
    "\n",
    "We'll do that next."
   ]
  },
  {
   "cell_type": "code",
   "execution_count": 17,
   "metadata": {},
   "outputs": [
    {
     "name": "stdout",
     "output_type": "stream",
     "text": [
      "You entered: 100000\n"
     ]
    }
   ],
   "source": [
    "user_input = input(\"Please enter something: \")\n",
    "val = float(user_input)\n",
    "print(f\"You entered: {user_input}\")"
   ]
  },
  {
   "cell_type": "code",
   "execution_count": 36,
   "metadata": {},
   "outputs": [
    {
     "data": {
      "text/html": [
       "<div>\n",
       "<style scoped>\n",
       "    .dataframe tbody tr th:only-of-type {\n",
       "        vertical-align: middle;\n",
       "    }\n",
       "\n",
       "    .dataframe tbody tr th {\n",
       "        vertical-align: top;\n",
       "    }\n",
       "\n",
       "    .dataframe thead th {\n",
       "        text-align: right;\n",
       "    }\n",
       "</style>\n",
       "<table border=\"1\" class=\"dataframe\">\n",
       "  <thead>\n",
       "    <tr style=\"text-align: right;\">\n",
       "      <th></th>\n",
       "      <th>Ticker</th>\n",
       "      <th>Stock Price</th>\n",
       "      <th>Market Capitalization</th>\n",
       "      <th>Num Shares to Buy</th>\n",
       "    </tr>\n",
       "  </thead>\n",
       "  <tbody>\n",
       "    <tr>\n",
       "      <th>0</th>\n",
       "      <td>MMM</td>\n",
       "      <td>104.970001</td>\n",
       "      <td>58086305792</td>\n",
       "      <td>1.905306</td>\n",
       "    </tr>\n",
       "    <tr>\n",
       "      <th>1</th>\n",
       "      <td>AOS</td>\n",
       "      <td>88.809998</td>\n",
       "      <td>13025762304</td>\n",
       "      <td>2.251999</td>\n",
       "    </tr>\n",
       "    <tr>\n",
       "      <th>2</th>\n",
       "      <td>ABT</td>\n",
       "      <td>103.720001</td>\n",
       "      <td>180434419712</td>\n",
       "      <td>1.928268</td>\n",
       "    </tr>\n",
       "    <tr>\n",
       "      <th>3</th>\n",
       "      <td>ABBV</td>\n",
       "      <td>173.610001</td>\n",
       "      <td>306572689408</td>\n",
       "      <td>1.152007</td>\n",
       "    </tr>\n",
       "    <tr>\n",
       "      <th>4</th>\n",
       "      <td>ACN</td>\n",
       "      <td>331.510010</td>\n",
       "      <td>207652569088</td>\n",
       "      <td>0.603300</td>\n",
       "    </tr>\n",
       "    <tr>\n",
       "      <th>...</th>\n",
       "      <td>...</td>\n",
       "      <td>...</td>\n",
       "      <td>...</td>\n",
       "      <td>...</td>\n",
       "    </tr>\n",
       "    <tr>\n",
       "      <th>495</th>\n",
       "      <td>WTW</td>\n",
       "      <td>265.440002</td>\n",
       "      <td>27137523712</td>\n",
       "      <td>0.753466</td>\n",
       "    </tr>\n",
       "    <tr>\n",
       "      <th>496</th>\n",
       "      <td>WYNN</td>\n",
       "      <td>83.540001</td>\n",
       "      <td>9362411520</td>\n",
       "      <td>2.394063</td>\n",
       "    </tr>\n",
       "    <tr>\n",
       "      <th>497</th>\n",
       "      <td>XEL</td>\n",
       "      <td>55.740002</td>\n",
       "      <td>30971318272</td>\n",
       "      <td>3.588087</td>\n",
       "    </tr>\n",
       "    <tr>\n",
       "      <th>498</th>\n",
       "      <td>XYL</td>\n",
       "      <td>139.339996</td>\n",
       "      <td>33782564864</td>\n",
       "      <td>1.435338</td>\n",
       "    </tr>\n",
       "    <tr>\n",
       "      <th>499</th>\n",
       "      <td>YUM</td>\n",
       "      <td>128.610001</td>\n",
       "      <td>36220690432</td>\n",
       "      <td>1.555089</td>\n",
       "    </tr>\n",
       "  </tbody>\n",
       "</table>\n",
       "<p>500 rows × 4 columns</p>\n",
       "</div>"
      ],
      "text/plain": [
       "    Ticker  Stock Price Market Capitalization  Num Shares to Buy\n",
       "0      MMM   104.970001           58086305792           1.905306\n",
       "1      AOS    88.809998           13025762304           2.251999\n",
       "2      ABT   103.720001          180434419712           1.928268\n",
       "3     ABBV   173.610001          306572689408           1.152007\n",
       "4      ACN   331.510010          207652569088           0.603300\n",
       "..     ...          ...                   ...                ...\n",
       "495    WTW   265.440002           27137523712           0.753466\n",
       "496   WYNN    83.540001            9362411520           2.394063\n",
       "497    XEL    55.740002           30971318272           3.588087\n",
       "498    XYL   139.339996           33782564864           1.435338\n",
       "499    YUM   128.610001           36220690432           1.555089\n",
       "\n",
       "[500 rows x 4 columns]"
      ]
     },
     "execution_count": 36,
     "metadata": {},
     "output_type": "execute_result"
    }
   ],
   "source": [
    "position_size = val/500\n",
    "num_shares = []\n",
    "for price in final_dataframe['Stock Price']:\n",
    "    num_shares.append(position_size/price)\n",
    "final_dataframe['Num Shares to Buy']= pd.Series(num_shares)\n",
    "final_dataframe"
   ]
  },
  {
   "cell_type": "markdown",
   "metadata": {},
   "source": [
    "## Saving Our Excel Output using the openyxl engine"
   ]
  },
  {
   "cell_type": "code",
   "execution_count": 52,
   "metadata": {},
   "outputs": [],
   "source": [
    "#writer.close()\n",
    "final_dataframe.to_excel('Trade_Details.xlsx', engine='openpyxl')"
   ]
  }
 ],
 "metadata": {
  "kernelspec": {
   "display_name": "Python 3.12.4",
   "language": "python",
   "name": "python3"
  },
  "language_info": {
   "codemirror_mode": {
    "name": "ipython",
    "version": 3
   },
   "file_extension": ".py",
   "mimetype": "text/x-python",
   "name": "python",
   "nbconvert_exporter": "python",
   "pygments_lexer": "ipython3",
   "version": "3.12.4"
  },
  "vscode": {
   "interpreter": {
    "hash": "40d3a090f54c6569ab1632332b64b2c03c39dcf918b08424e98f38b5ae0af88f"
   }
  }
 },
 "nbformat": 4,
 "nbformat_minor": 4
}
