{
 "cells": [
  {
   "cell_type": "markdown",
   "metadata": {},
   "source": [
    "# Equal-Weight S&P 500 Index Fund\n",
    "\n",
    "## Introduction & Library Imports\n",
    "\n",
    "The S&P 500 is the world's most popular stock market index. The largest fund that is benchmarked to this index is the SPDR® S&P 500® ETF Trust, which has more than US$250 billion of assets under management.\n",
    "\n",
    "In this project, I will create a Python script that accepts the value of my portfolio and tells me how many shares of each S&P 500 constituent I should purchase to get an equal-weight version of the index fund.\n",
    "\n",
    "## Library Imports\n",
    "\n",
    "The first step is to import the open-source software libraries that I will be using in this project. Below are the necessary imports:\n",
    "\n",
    "```python\n",
    "import numpy as np\n",
    "import pandas as pd\n",
    "import yfinance as yf\n"
   ]
  },
  {
   "cell_type": "code",
   "execution_count": 1,
   "metadata": {},
   "outputs": [
    {
     "name": "stdout",
     "output_type": "stream",
     "text": [
      "Collecting yfinance\n",
      "  Downloading yfinance-0.2.40-py2.py3-none-any.whl (73 kB)\n",
      "\u001b[K     |████████████████████████████████| 73 kB 1.2 MB/s eta 0:00:01\n",
      "\u001b[?25hRequirement already satisfied: platformdirs>=2.0.0 in /Applications/Mu Editor.app/Contents/Resources/Python/lib/python3.8/site-packages (from yfinance) (2.5.4)\n",
      "Collecting peewee>=3.16.2\n",
      "  Downloading peewee-3.17.6.tar.gz (3.0 MB)\n",
      "\u001b[K     |████████████████████████████████| 3.0 MB 5.4 MB/s eta 0:00:01\n",
      "\u001b[?25h  Installing build dependencies ... \u001b[?25ldone\n",
      "\u001b[?25h  Getting requirements to build wheel ... \u001b[?25ldone\n",
      "\u001b[?25h    Preparing wheel metadata ... \u001b[?25ldone\n",
      "\u001b[?25hCollecting pandas>=1.3.0\n",
      "  Downloading pandas-2.0.3-cp38-cp38-macosx_10_9_x86_64.whl (11.7 MB)\n",
      "\u001b[K     |████████████████████████████████| 11.7 MB 16.6 MB/s eta 0:00:01\n",
      "\u001b[?25hCollecting html5lib>=1.1\n",
      "  Downloading html5lib-1.1-py2.py3-none-any.whl (112 kB)\n",
      "\u001b[K     |████████████████████████████████| 112 kB 15.6 MB/s eta 0:00:01\n",
      "\u001b[?25hRequirement already satisfied: requests>=2.31 in /Applications/Mu Editor.app/Contents/Resources/Python/lib/python3.8/site-packages (from yfinance) (2.32.3)\n",
      "Collecting lxml>=4.9.1\n",
      "  Downloading lxml-5.2.2-cp38-cp38-macosx_10_9_x86_64.whl (4.5 MB)\n",
      "\u001b[K     |████████████████████████████████| 4.5 MB 17.9 MB/s eta 0:00:01\n",
      "\u001b[?25hCollecting frozendict>=2.3.4\n",
      "  Downloading frozendict-2.4.4.tar.gz (315 kB)\n",
      "\u001b[K     |████████████████████████████████| 315 kB 21.4 MB/s eta 0:00:01\n",
      "\u001b[?25h  Installing build dependencies ... \u001b[?25ldone\n",
      "\u001b[?25h  Getting requirements to build wheel ... \u001b[?25ldone\n",
      "\u001b[?25h    Preparing wheel metadata ... \u001b[?25ldone\n",
      "\u001b[?25hCollecting multitasking>=0.0.7\n",
      "  Downloading multitasking-0.0.11-py3-none-any.whl (8.5 kB)\n",
      "Requirement already satisfied: beautifulsoup4>=4.11.1 in /Applications/Mu Editor.app/Contents/Resources/Python/lib/python3.8/site-packages (from yfinance) (4.12.3)\n",
      "Collecting numpy>=1.16.5\n",
      "  Downloading numpy-1.24.4-cp38-cp38-macosx_10_9_x86_64.whl (19.8 MB)\n",
      "\u001b[K     |████████████████████████████████| 19.8 MB 51.9 MB/s eta 0:00:01\n",
      "\u001b[?25hRequirement already satisfied: pytz>=2022.5 in /Applications/Mu Editor.app/Contents/Resources/Python/lib/python3.8/site-packages (from yfinance) (2024.1)\n",
      "Requirement already satisfied: soupsieve>1.2 in /Applications/Mu Editor.app/Contents/Resources/Python/lib/python3.8/site-packages (from beautifulsoup4>=4.11.1->yfinance) (2.5)\n",
      "Requirement already satisfied: six>=1.9 in /Applications/Mu Editor.app/Contents/Resources/Python/lib/python3.8/site-packages (from html5lib>=1.1->yfinance) (1.16.0)\n",
      "Requirement already satisfied: webencodings in /Applications/Mu Editor.app/Contents/Resources/Python/lib/python3.8/site-packages (from html5lib>=1.1->yfinance) (0.5.1)\n",
      "Collecting tzdata>=2022.1\n",
      "  Downloading tzdata-2024.1-py2.py3-none-any.whl (345 kB)\n",
      "\u001b[K     |████████████████████████████████| 345 kB 113.2 MB/s eta 0:00:01\n",
      "\u001b[?25hRequirement already satisfied: python-dateutil>=2.8.2 in /Applications/Mu Editor.app/Contents/Resources/Python/lib/python3.8/site-packages (from pandas>=1.3.0->yfinance) (2.8.2)\n",
      "Requirement already satisfied: certifi>=2017.4.17 in /Applications/Mu Editor.app/Contents/Resources/Python/lib/python3.8/site-packages (from requests>=2.31->yfinance) (2022.9.24)\n",
      "Requirement already satisfied: urllib3<3,>=1.21.1 in /Applications/Mu Editor.app/Contents/Resources/Python/lib/python3.8/site-packages (from requests>=2.31->yfinance) (1.26.12)\n",
      "Requirement already satisfied: idna<4,>=2.5 in /Applications/Mu Editor.app/Contents/Resources/Python/lib/python3.8/site-packages (from requests>=2.31->yfinance) (3.4)\n",
      "Requirement already satisfied: charset-normalizer<4,>=2 in /Applications/Mu Editor.app/Contents/Resources/Python/lib/python3.8/site-packages (from requests>=2.31->yfinance) (2.1.1)\n",
      "Building wheels for collected packages: frozendict, peewee\n",
      "  Building wheel for frozendict (PEP 517) ... \u001b[?25ldone\n",
      "\u001b[?25h  Created wheel for frozendict: filename=frozendict-2.4.4-cp38-cp38-macosx_10_9_x86_64.whl size=16032 sha256=f612cf92edd90fe81b41e7e154d114fdd4d6a779e06b80dfbfce19b371f5afa8\n",
      "  Stored in directory: /Users/vaibhav/Library/Caches/pip/wheels/7d/65/20/a8f7d1a2a99c9db2dfb0f83dddac9e847b02f45040768bf264\n",
      "  Building wheel for peewee (PEP 517) ... \u001b[?25ldone\n",
      "\u001b[?25h  Created wheel for peewee: filename=peewee-3.17.6-py3-none-any.whl size=138889 sha256=8a794acebfcf72aed2676bf2bad0c73e39823f5bf8550a304247f3d7b03e9f42\n",
      "  Stored in directory: /Users/vaibhav/Library/Caches/pip/wheels/3a/cd/3a/abf2568bf80fd95a4be8f7954d9e4eefc190c1233516a0a029\n",
      "Successfully built frozendict peewee\n",
      "Installing collected packages: tzdata, numpy, peewee, pandas, multitasking, lxml, html5lib, frozendict, yfinance\n"
     ]
    }
   ],
   "source": [
    "pip install yfinance"
   ]
  },
  {
   "cell_type": "code",
   "execution_count": 1,
   "metadata": {},
   "outputs": [],
   "source": [
    "import numpy as np \n",
    "import pandas as pd \n",
    "import math \n",
    "import requests\n",
    "import yfinance as yf\n"
   ]
  },
  {
   "cell_type": "markdown",
   "metadata": {},
   "source": [
    "## Importing Our List of Stocks\n",
    "\n",
    "The next thing we need to do is import the constituents of the S&P 500.\n",
    "\n",
    "These constituents change over time, so in an ideal world you would connect directly to the index provider (Standard & Poor's) and pull their real-time constituents on a regular basis.\n",
    "\n",
    "Now it's time to import these stocks to our Jupyter Notebook file."
   ]
  },
  {
   "cell_type": "code",
   "execution_count": 89,
   "metadata": {},
   "outputs": [
    {
     "data": {
      "text/plain": [
       "0       MMM\n",
       "1       AOS\n",
       "2       ABT\n",
       "3      ABBV\n",
       "4       ACN\n",
       "       ... \n",
       "498     XYL\n",
       "499     YUM\n",
       "500    ZBRA\n",
       "501     ZBH\n",
       "502     ZTS\n",
       "Name: Symbol, Length: 503, dtype: object"
      ]
     },
     "execution_count": 89,
     "metadata": {},
     "output_type": "execute_result"
    }
   ],
   "source": [
    "df = pd.read_csv('constituents.csv')\n",
    "Tickers = df['Symbol']\n",
    "Tickers"
   ]
  },
  {
   "cell_type": "markdown",
   "metadata": {},
   "source": [
    "## Testing Yfinance call for specific fields \n",
    "\n",
    "The yf call that we executed in the last code block seems to have all teh required data to build an Equal weighted S&P 500 fund. Testing MarketCap and price endpoints \n",
    "\n",
    "With that said, the data isn't in a proper format yet. We need to parse it first."
   ]
  },
  {
   "cell_type": "code",
   "execution_count": 79,
   "metadata": {},
   "outputs": [
    {
     "data": {
      "text/plain": [
       "234.82"
      ]
     },
     "execution_count": 79,
     "metadata": {},
     "output_type": "execute_result"
    }
   ],
   "source": [
    "marketCap = tickerData.info['marketCap']\n",
    "marketCap \n",
    "previousClose = tickerData.info['previousClose']\n",
    "previousClose"
   ]
  },
  {
   "cell_type": "markdown",
   "metadata": {},
   "source": [
    "## Adding Our Stocks Data to a Pandas DataFrame\n",
    "\n",
    "The next thing we need to do is add our stock's price and market capitalization to a pandas DataFrame. Think of a DataFrame like the Python version of a spreadsheet. It stores tabular data."
   ]
  },
  {
   "cell_type": "code",
   "execution_count": 90,
   "metadata": {},
   "outputs": [
    {
     "name": "stdout",
     "output_type": "stream",
     "text": [
      "    ticker       marketC\n",
      "0      MMM   57903697920\n",
      "1      AOS   13220833280\n",
      "2      ABT  182104457216\n",
      "3     ABBV  309504049152\n",
      "4      ACN  203950637056\n",
      "..     ...           ...\n",
      "496    XYL   33700134912\n",
      "497    YUM   36423467008\n",
      "498   ZBRA   16757068800\n",
      "499    ZBH   22846095360\n",
      "500    ZTS   83068510208\n",
      "\n",
      "[501 rows x 2 columns]\n"
     ]
    }
   ],
   "source": [
    "# Assuming df is your initial DataFrame containing a column 'Ticker' with the ticker symbols\n",
    "#df = pd.DataFrame({'Ticker': ['AAPL', 'GOOGL', 'MSFT']})  # Example tickers\n",
    "\n",
    "# Initialize an empty list to collect data\n",
    "market_cap_data = []\n",
    "# Fetch market capitalization for each ticker and append to the list\n",
    "for ticker in Tickers:\n",
    "    try:\n",
    "        market_cap = yf.Ticker(ticker).info['marketCap']\n",
    "        market_cap_data.append({'ticker': ticker, 'marketC': market_cap})\n",
    "    except:\n",
    "        continue\n",
    "    #except Exception as e:\n",
    "      # continue\n",
    "# Convert the list to a DataFrame\n",
    "marketCap_df = pd.DataFrame(market_cap_data)\n",
    "\n",
    "print(marketCap_df)\n",
    "    "
   ]
  },
  {
   "cell_type": "code",
   "execution_count": 91,
   "metadata": {},
   "outputs": [
    {
     "name": "stdout",
     "output_type": "stream",
     "text": [
      "<bound method NDFrame.head of     ticker       marketC\n",
      "0      MMM   57903697920\n",
      "1      AOS   13220833280\n",
      "2      ABT  182104457216\n",
      "3     ABBV  309504049152\n",
      "4      ACN  203950637056\n",
      "..     ...           ...\n",
      "496    XYL   33700134912\n",
      "497    YUM   36423467008\n",
      "498   ZBRA   16757068800\n",
      "499    ZBH   22846095360\n",
      "500    ZTS   83068510208\n",
      "\n",
      "[501 rows x 2 columns]>\n"
     ]
    }
   ],
   "source": [
    "print(marketCap_df.head)"
   ]
  },
  {
   "cell_type": "code",
   "execution_count": 93,
   "metadata": {},
   "outputs": [],
   "source": [
    "Columns_final = ['Ticker','Stock Price','Market Capitalization','Num Shares to Buy']\n",
    "Output_df = pd.DataFrame(columns=Columns_final)"
   ]
  },
  {
   "cell_type": "markdown",
   "metadata": {},
   "source": [
    "## Looping Through The Tickers in Our List of Stocks\n",
    "\n",
    "Using the same logic that we outlined above, we can pull data for all S&P 500 stocks and store their data in the DataFrame using a `for` loop."
   ]
  },
  {
   "cell_type": "code",
   "execution_count": 94,
   "metadata": {},
   "outputs": [],
   "source": [
    "priceData =[]\n",
    "for ticker in Tickers:\n",
    "    try:\n",
    "        market_cap = yf.Ticker(ticker).info['marketCap']\n",
    "        market_cap_data.append(market_cap)\n",
    "        price = yf.Ticker(ticker).info['previousClose']\n",
    "        priceData.append(price)\n",
    "    except:\n",
    "        continue"
   ]
  },
  {
   "cell_type": "code",
   "execution_count": 101,
   "metadata": {},
   "outputs": [
    {
     "data": {
      "text/html": [
       "<div>\n",
       "<style scoped>\n",
       "    .dataframe tbody tr th:only-of-type {\n",
       "        vertical-align: middle;\n",
       "    }\n",
       "\n",
       "    .dataframe tbody tr th {\n",
       "        vertical-align: top;\n",
       "    }\n",
       "\n",
       "    .dataframe thead th {\n",
       "        text-align: right;\n",
       "    }\n",
       "</style>\n",
       "<table border=\"1\" class=\"dataframe\">\n",
       "  <thead>\n",
       "    <tr style=\"text-align: right;\">\n",
       "      <th></th>\n",
       "      <th>Ticker</th>\n",
       "      <th>Stock Price</th>\n",
       "      <th>Market Capitalization</th>\n",
       "      <th>Num Shares to Buy</th>\n",
       "    </tr>\n",
       "  </thead>\n",
       "  <tbody>\n",
       "    <tr>\n",
       "      <th>0</th>\n",
       "      <td>MMM</td>\n",
       "      <td>103.31</td>\n",
       "      <td>{'ticker': 'MMM', 'marketC': 57903697920}</td>\n",
       "      <td>NaN</td>\n",
       "    </tr>\n",
       "    <tr>\n",
       "      <th>1</th>\n",
       "      <td>AOS</td>\n",
       "      <td>91.98</td>\n",
       "      <td>{'ticker': 'AOS', 'marketC': 13220833280}</td>\n",
       "      <td>NaN</td>\n",
       "    </tr>\n",
       "    <tr>\n",
       "      <th>2</th>\n",
       "      <td>ABT</td>\n",
       "      <td>102.72</td>\n",
       "      <td>{'ticker': 'ABT', 'marketC': 182104457216}</td>\n",
       "      <td>NaN</td>\n",
       "    </tr>\n",
       "    <tr>\n",
       "      <th>3</th>\n",
       "      <td>ABBV</td>\n",
       "      <td>169.20</td>\n",
       "      <td>{'ticker': 'ABBV', 'marketC': 309504049152}</td>\n",
       "      <td>NaN</td>\n",
       "    </tr>\n",
       "    <tr>\n",
       "      <th>4</th>\n",
       "      <td>ACN</td>\n",
       "      <td>325.00</td>\n",
       "      <td>{'ticker': 'ACN', 'marketC': 203950637056}</td>\n",
       "      <td>NaN</td>\n",
       "    </tr>\n",
       "    <tr>\n",
       "      <th>...</th>\n",
       "      <td>...</td>\n",
       "      <td>...</td>\n",
       "      <td>...</td>\n",
       "      <td>...</td>\n",
       "    </tr>\n",
       "    <tr>\n",
       "      <th>496</th>\n",
       "      <td>WYNN</td>\n",
       "      <td>141.26</td>\n",
       "      <td>{'ticker': 'XYL', 'marketC': 33700134912}</td>\n",
       "      <td>NaN</td>\n",
       "    </tr>\n",
       "    <tr>\n",
       "      <th>497</th>\n",
       "      <td>XEL</td>\n",
       "      <td>128.92</td>\n",
       "      <td>{'ticker': 'YUM', 'marketC': 36423467008}</td>\n",
       "      <td>NaN</td>\n",
       "    </tr>\n",
       "    <tr>\n",
       "      <th>498</th>\n",
       "      <td>XYL</td>\n",
       "      <td>335.76</td>\n",
       "      <td>{'ticker': 'ZBRA', 'marketC': 16757068800}</td>\n",
       "      <td>NaN</td>\n",
       "    </tr>\n",
       "    <tr>\n",
       "      <th>499</th>\n",
       "      <td>YUM</td>\n",
       "      <td>107.46</td>\n",
       "      <td>{'ticker': 'ZBH', 'marketC': 22846095360}</td>\n",
       "      <td>NaN</td>\n",
       "    </tr>\n",
       "    <tr>\n",
       "      <th>500</th>\n",
       "      <td>ZBRA</td>\n",
       "      <td>182.91</td>\n",
       "      <td>{'ticker': 'ZTS', 'marketC': 83068510208}</td>\n",
       "      <td>NaN</td>\n",
       "    </tr>\n",
       "  </tbody>\n",
       "</table>\n",
       "<p>501 rows × 4 columns</p>\n",
       "</div>"
      ],
      "text/plain": [
       "    Ticker  Stock Price                        Market Capitalization  \\\n",
       "0      MMM       103.31    {'ticker': 'MMM', 'marketC': 57903697920}   \n",
       "1      AOS        91.98    {'ticker': 'AOS', 'marketC': 13220833280}   \n",
       "2      ABT       102.72   {'ticker': 'ABT', 'marketC': 182104457216}   \n",
       "3     ABBV       169.20  {'ticker': 'ABBV', 'marketC': 309504049152}   \n",
       "4      ACN       325.00   {'ticker': 'ACN', 'marketC': 203950637056}   \n",
       "..     ...          ...                                          ...   \n",
       "496   WYNN       141.26    {'ticker': 'XYL', 'marketC': 33700134912}   \n",
       "497    XEL       128.92    {'ticker': 'YUM', 'marketC': 36423467008}   \n",
       "498    XYL       335.76   {'ticker': 'ZBRA', 'marketC': 16757068800}   \n",
       "499    YUM       107.46    {'ticker': 'ZBH', 'marketC': 22846095360}   \n",
       "500   ZBRA       182.91    {'ticker': 'ZTS', 'marketC': 83068510208}   \n",
       "\n",
       "    Num Shares to Buy  \n",
       "0                 NaN  \n",
       "1                 NaN  \n",
       "2                 NaN  \n",
       "3                 NaN  \n",
       "4                 NaN  \n",
       "..                ...  \n",
       "496               NaN  \n",
       "497               NaN  \n",
       "498               NaN  \n",
       "499               NaN  \n",
       "500               NaN  \n",
       "\n",
       "[501 rows x 4 columns]"
      ]
     },
     "execution_count": 101,
     "metadata": {},
     "output_type": "execute_result"
    }
   ],
   "source": [
    "Output_df['Stock Price'] = priceData\n",
    "Output_df['Market Capitalization']=market_cap_data[0:501]\n",
    "Output_df['Ticker'] = Tickers\n",
    "Output_df"
   ]
  },
  {
   "cell_type": "markdown",
   "metadata": {},
   "source": [
    "## Using Batch API Calls to Improve Performance\n",
    "\n",
    "Batch API calls are one of the easiest ways to improve the performance of your code.\n",
    "\n",
    "This is because HTTP requests are typically one of the slowest components of a script.\n",
    "\n",
    "Also, API providers will often give you discounted rates for using batch API calls since they are easier for the API provider to respond to.\n",
    "\n",
    "IEX Cloud limits their batch API calls to 100 tickers per request. Still, this reduces the number of API calls we'll make in this section from 500 to 5 - huge improvement! In this section, we'll split our list of stocks into groups of 100 and then make a batch API call for each group."
   ]
  },
  {
   "cell_type": "code",
   "execution_count": null,
   "metadata": {},
   "outputs": [],
   "source": []
  },
  {
   "cell_type": "code",
   "execution_count": null,
   "metadata": {},
   "outputs": [],
   "source": []
  },
  {
   "cell_type": "markdown",
   "metadata": {},
   "source": [
    "## Calculating the Number of Shares to Buy\n",
    "\n",
    "As you can see in the DataFrame above, we stil haven't calculated the number of shares of each stock to buy.\n",
    "\n",
    "We'll do that next."
   ]
  },
  {
   "cell_type": "code",
   "execution_count": null,
   "metadata": {},
   "outputs": [],
   "source": []
  },
  {
   "cell_type": "code",
   "execution_count": null,
   "metadata": {},
   "outputs": [],
   "source": []
  },
  {
   "cell_type": "markdown",
   "metadata": {},
   "source": [
    "## Formatting Our Excel Output\n",
    "\n",
    "We will be using the XlsxWriter library for Python to create nicely-formatted Excel files.\n",
    "\n",
    "XlsxWriter is an excellent package and offers tons of customization. However, the tradeoff for this is that the library can seem very complicated to new users. Accordingly, this section will be fairly long because I want to do a good job of explaining how XlsxWriter works.\n",
    "\n",
    "### Initializing our XlsxWriter Object"
   ]
  },
  {
   "cell_type": "code",
   "execution_count": null,
   "metadata": {},
   "outputs": [],
   "source": []
  },
  {
   "cell_type": "markdown",
   "metadata": {},
   "source": [
    "### Creating the Formats We'll Need For Our `.xlsx` File\n",
    "\n",
    "Formats include colors, fonts, and also symbols like `%` and `$`. We'll need four main formats for our Excel document:\n",
    "* String format for tickers\n",
    "* \\\\$XX.XX format for stock prices\n",
    "* \\\\$XX,XXX format for market capitalization\n",
    "* Integer format for the number of shares to purchase"
   ]
  },
  {
   "cell_type": "code",
   "execution_count": null,
   "metadata": {},
   "outputs": [],
   "source": []
  },
  {
   "cell_type": "markdown",
   "metadata": {},
   "source": [
    "### Applying the Formats to the Columns of Our `.xlsx` File\n",
    "\n",
    "We can use the `set_column` method applied to the `writer.sheets['Recommended Trades']` object to apply formats to specific columns of our spreadsheets.\n",
    "\n",
    "Here's an example:\n",
    "\n",
    "```python\n",
    "writer.sheets['Recommended Trades'].set_column('B:B', #This tells the method to apply the format to column B\n",
    "                     18, #This tells the method to apply a column width of 18 pixels\n",
    "                     string_template #This applies the format 'string_template' to the column\n",
    "                    )\n",
    "```"
   ]
  },
  {
   "cell_type": "code",
   "execution_count": null,
   "metadata": {},
   "outputs": [],
   "source": []
  },
  {
   "cell_type": "markdown",
   "metadata": {},
   "source": [
    "This code works, but it violates the software principle of \"Don't Repeat Yourself\". \n",
    "\n",
    "Let's simplify this by putting it in 2 loops:"
   ]
  },
  {
   "cell_type": "code",
   "execution_count": null,
   "metadata": {},
   "outputs": [],
   "source": []
  },
  {
   "cell_type": "markdown",
   "metadata": {},
   "source": [
    "## Saving Our Excel Output\n",
    "\n",
    "Saving our Excel file is very easy:"
   ]
  },
  {
   "cell_type": "code",
   "execution_count": null,
   "metadata": {},
   "outputs": [],
   "source": []
  }
 ],
 "metadata": {
  "kernelspec": {
   "display_name": "Python 3.12.4",
   "language": "python",
   "name": "python3"
  },
  "language_info": {
   "codemirror_mode": {
    "name": "ipython",
    "version": 3
   },
   "file_extension": ".py",
   "mimetype": "text/x-python",
   "name": "python",
   "nbconvert_exporter": "python",
   "pygments_lexer": "ipython3",
   "version": "3.12.4"
  },
  "vscode": {
   "interpreter": {
    "hash": "40d3a090f54c6569ab1632332b64b2c03c39dcf918b08424e98f38b5ae0af88f"
   }
  }
 },
 "nbformat": 4,
 "nbformat_minor": 4
}
